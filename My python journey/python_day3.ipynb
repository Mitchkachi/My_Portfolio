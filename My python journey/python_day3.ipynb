{
 "cells": [
  {
   "cell_type": "code",
   "execution_count": 1,
   "id": "bfe2ec12",
   "metadata": {},
   "outputs": [
    {
     "name": "stdout",
     "output_type": "stream",
     "text": [
      "The Zen of Python, by Tim Peters\n",
      "\n",
      "Beautiful is better than ugly.\n",
      "Explicit is better than implicit.\n",
      "Simple is better than complex.\n",
      "Complex is better than complicated.\n",
      "Flat is better than nested.\n",
      "Sparse is better than dense.\n",
      "Readability counts.\n",
      "Special cases aren't special enough to break the rules.\n",
      "Although practicality beats purity.\n",
      "Errors should never pass silently.\n",
      "Unless explicitly silenced.\n",
      "In the face of ambiguity, refuse the temptation to guess.\n",
      "There should be one-- and preferably only one --obvious way to do it.\n",
      "Although that way may not be obvious at first unless you're Dutch.\n",
      "Now is better than never.\n",
      "Although never is often better than *right* now.\n",
      "If the implementation is hard to explain, it's a bad idea.\n",
      "If the implementation is easy to explain, it may be a good idea.\n",
      "Namespaces are one honking great idea -- let's do more of those!\n"
     ]
    }
   ],
   "source": [
    "import this"
   ]
  },
  {
   "cell_type": "markdown",
   "id": "cd2e1e42",
   "metadata": {},
   "source": [
    "# LET'S CODE"
   ]
  },
  {
   "cell_type": "markdown",
   "id": "2ae95cc5",
   "metadata": {},
   "source": [
    "### LEARNING TO SEPERATE DATA TYPES FROM A LIST"
   ]
  },
  {
   "cell_type": "code",
   "execution_count": 9,
   "id": "878c21d7",
   "metadata": {},
   "outputs": [
    {
     "name": "stdout",
     "output_type": "stream",
     "text": [
      "[True]\n"
     ]
    }
   ],
   "source": [
    "y = [\"jude\", \"Thelma\", True, \"yes\", 20, 35.1]\n",
    "strings = []\n",
    "booleans = []\n",
    "numbers = []\n",
    "\n",
    "for i in y:\n",
    "    if type(i) == str:\n",
    "        strings.append(i)\n",
    "    elif type(i) == bool:\n",
    "        booleans.append(i)\n",
    "    else:\n",
    "        numbers.append(i)\n",
    "print(booleans)\n",
    "        \n",
    "        "
   ]
  },
  {
   "cell_type": "code",
   "execution_count": 10,
   "id": "06193918",
   "metadata": {},
   "outputs": [
    {
     "name": "stdout",
     "output_type": "stream",
     "text": [
      "[1.0, 1.7320508075688772, 2.23606797749979, 2.6457513110645907, 3.0, 3.3166247903554, 3.605551275463989, 3.872983346207417, 4.123105625617661, 4.358898943540674, 4.58257569495584, 4.795831523312719, 5.0, 5.196152422706632, 5.385164807134504, 5.5677643628300215, 5.744562646538029, 5.916079783099616, 6.082762530298219, 6.244997998398398, 6.4031242374328485, 6.557438524302, 6.708203932499369, 6.855654600401044, 7.0]\n"
     ]
    }
   ],
   "source": [
    "vals = []\n",
    "for i in range(1, 50+1):\n",
    "    if i%2 != 0:\n",
    "        a = i**(1/2)\n",
    "        vals.append(a)\n",
    "print(vals)"
   ]
  },
  {
   "cell_type": "code",
   "execution_count": 16,
   "id": "f1c3a4c6",
   "metadata": {},
   "outputs": [
    {
     "name": "stdout",
     "output_type": "stream",
     "text": [
      "[1.0, 1.7320508075688772, 2.23606797749979, 2.6457513110645907, 3.0, 3.3166247903554, 3.605551275463989, 3.872983346207417, 4.123105625617661, 4.358898943540674, 4.58257569495584, 4.795831523312719, 5.0, 5.196152422706632, 5.385164807134504, 5.5677643628300215, 5.744562646538029, 5.916079783099616, 6.082762530298219, 6.244997998398398, 6.4031242374328485, 6.557438524302, 6.708203932499369, 6.855654600401044, 7.0]\n"
     ]
    }
   ],
   "source": [
    "number_vals = [i**(1/2) for i in range(1, 51) if i%2 != 0]\n",
    "print(number_vals)"
   ]
  },
  {
   "cell_type": "code",
   "execution_count": 18,
   "id": "1821aa30",
   "metadata": {},
   "outputs": [
    {
     "name": "stdout",
     "output_type": "stream",
     "text": [
      "4.72\n"
     ]
    }
   ],
   "source": [
    "####### find the mean of number_vals above\n",
    "sum_nv = 0\n",
    "for i in number_vals:\n",
    "    sum_nv = sum_nv + i\n",
    "    mean = round(sum_nv/len(number_vals), 2)\n",
    "print(mean)    "
   ]
  },
  {
   "cell_type": "markdown",
   "id": "3bd24e2e",
   "metadata": {},
   "source": [
    "### finding max and min"
   ]
  },
  {
   "cell_type": "code",
   "execution_count": 45,
   "id": "d5a3b410",
   "metadata": {},
   "outputs": [
    {
     "name": "stdout",
     "output_type": "stream",
     "text": [
      "12.5\n"
     ]
    }
   ],
   "source": [
    "vals = [10, 12.5, 8, 9.5, 6, 11.5, 7, 4]\n",
    "position = vals[0]\n",
    "for i in vals:\n",
    "    if i > position:\n",
    "        position = i  \n",
    "print(position)"
   ]
  },
  {
   "cell_type": "code",
   "execution_count": 46,
   "id": "ba0f10cc",
   "metadata": {},
   "outputs": [
    {
     "name": "stdout",
     "output_type": "stream",
     "text": [
      "4\n"
     ]
    }
   ],
   "source": [
    "vals = [10, 12.5, 8, 9.5, 6, 11.5, 7, 4]\n",
    "pos = vals[0]\n",
    "for i in vals:\n",
    "    if i < pos:\n",
    "        pos = i\n",
    "print(pos)"
   ]
  },
  {
   "cell_type": "markdown",
   "id": "0d27c12c",
   "metadata": {},
   "source": [
    "### finding the difference between two list object(subtraction)"
   ]
  },
  {
   "cell_type": "code",
   "execution_count": 8,
   "id": "9fabc97a",
   "metadata": {},
   "outputs": [
    {
     "name": "stdout",
     "output_type": "stream",
     "text": [
      "[-5, -6, -8, -9]\n"
     ]
    }
   ],
   "source": [
    "x = [10, 15, 20, 30]\n",
    "u = [15, 21, 28, 39]\n",
    "diff = []\n",
    "if len(x) == len(u):\n",
    "    for i in range(0, len(u)):\n",
    "        dif = x[i] - u[i]\n",
    "        diff.append(dif)    \n",
    "    print(diff)\n",
    "else:\n",
    "    print(False)"
   ]
  },
  {
   "cell_type": "markdown",
   "id": "1ce91216",
   "metadata": {},
   "source": [
    "# using in and not in"
   ]
  },
  {
   "cell_type": "code",
   "execution_count": 10,
   "id": "b83f8919",
   "metadata": {},
   "outputs": [
    {
     "name": "stdout",
     "output_type": "stream",
     "text": [
      "bode\n",
      "phil\n"
     ]
    }
   ],
   "source": [
    "a = [\"ben\", \"bode\", \"phil\", \"tope\"]\n",
    "d = [\"phil\", \"jack\", \"susan\", \"bode\", \"jasmine\"]\n",
    "\n",
    "for i in a:\n",
    "    if i in d:\n",
    "        print(i)"
   ]
  },
  {
   "cell_type": "code",
   "execution_count": 11,
   "id": "0b4993a2",
   "metadata": {},
   "outputs": [
    {
     "name": "stdout",
     "output_type": "stream",
     "text": [
      "jack\n",
      "susan\n",
      "jasmine\n"
     ]
    }
   ],
   "source": [
    "a = [\"ben\", \"bode\", \"phil\", \"tope\"]\n",
    "d = [\"phil\", \"jack\", \"susan\", \"bode\", \"jasmine\"]\n",
    "\n",
    "for i in d:\n",
    "    if i not in a:\n",
    "        print(i)"
   ]
  },
  {
   "cell_type": "markdown",
   "id": "d307a834",
   "metadata": {},
   "source": [
    "# How to split in python usin \".SPLIT\""
   ]
  },
  {
   "cell_type": "code",
   "execution_count": 2,
   "id": "184b4f2c",
   "metadata": {},
   "outputs": [
    {
     "name": "stdout",
     "output_type": "stream",
     "text": [
      "['192', '168', '120', '15']\n",
      "['221', '124', '127', '50']\n",
      "['101', '124', '56', '12']\n",
      "['221.124.127.50']\n"
     ]
    }
   ],
   "source": [
    "ip_addr = [\"192.168.120.15\", \"221.124.127.50\", \"101.124.56.12\"]\n",
    "lst = []\n",
    "for i in ip_addr:\n",
    "    print(i.split('.'))\n",
    "    a = int(i.split('.')[-1])\n",
    "    if a >= 30 and a <= 50:\n",
    "        lst.append(i)\n",
    "print(lst)"
   ]
  },
  {
   "cell_type": "markdown",
   "id": "496c5324",
   "metadata": {},
   "source": [
    "# finding standard deviation using python"
   ]
  },
  {
   "cell_type": "code",
   "execution_count": 33,
   "id": "02f9335a",
   "metadata": {},
   "outputs": [
    {
     "name": "stdout",
     "output_type": "stream",
     "text": [
      "18.75\n"
     ]
    }
   ],
   "source": [
    "x = [10, 15, 20, 30]\n",
    "\n",
    "#find mean\n",
    "sum_i = 0\n",
    "for i in x:\n",
    "    sum_i = sum_i + i\n",
    "    mean = sum_i/len(x)\n",
    "print(mean)    "
   ]
  },
  {
   "cell_type": "code",
   "execution_count": 38,
   "id": "ee20672f",
   "metadata": {},
   "outputs": [
    {
     "name": "stdout",
     "output_type": "stream",
     "text": [
      "[76.5625, 14.0625, 1.5625, 126.5625]\n"
     ]
    }
   ],
   "source": [
    "# i - mean and square each of them\n",
    "sub = []\n",
    "sub_sq = []\n",
    "for i in x:\n",
    "    sub = i - mean\n",
    "    sub_sqq = sub**2\n",
    "    sub_sq.append(sub_sqq)\n",
    "print(sub_sq)\n",
    "    "
   ]
  },
  {
   "cell_type": "code",
   "execution_count": 40,
   "id": "eca14bb4",
   "metadata": {},
   "outputs": [
    {
     "name": "stdout",
     "output_type": "stream",
     "text": [
      "54.6875\n"
     ]
    }
   ],
   "source": [
    "# summation of i - u sq divide by n\n",
    "sum_sq = 0\n",
    "for i in sub_sq:\n",
    "    sum_sq = sum_sq + i\n",
    "    std = sum_sq/len(sub_sq)\n",
    "print(std)"
   ]
  },
  {
   "cell_type": "code",
   "execution_count": 46,
   "id": "b8dcbf71",
   "metadata": {},
   "outputs": [
    {
     "name": "stdout",
     "output_type": "stream",
     "text": [
      "7.4\n"
     ]
    }
   ],
   "source": [
    "# standard deviation\n",
    "\n",
    "standard_dev =round(std**(1/2), 2)\n",
    "print(standard_dev)"
   ]
  },
  {
   "cell_type": "markdown",
   "id": "e938b1db",
   "metadata": {},
   "source": [
    "# PATTERN PRINTING USING MATRIX"
   ]
  },
  {
   "cell_type": "code",
   "execution_count": 47,
   "id": "cec9959d",
   "metadata": {},
   "outputs": [
    {
     "name": "stdout",
     "output_type": "stream",
     "text": [
      "[[1, 2, 3], [4, 5, 6], [7, 8, 9]]\n"
     ]
    }
   ],
   "source": [
    " m = [[1,2,3], \n",
    "      [4,5,6], \n",
    "      [7,8,9]]\n",
    "print(m)"
   ]
  },
  {
   "cell_type": "code",
   "execution_count": 55,
   "id": "2716c4af",
   "metadata": {},
   "outputs": [
    {
     "name": "stdout",
     "output_type": "stream",
     "text": [
      "4\n"
     ]
    }
   ],
   "source": [
    "aa = []\n",
    "for i in m:\n",
    "    aa.append(i[0])\n",
    "print(aa[1])"
   ]
  },
  {
   "cell_type": "code",
   "execution_count": 56,
   "id": "758f97ef",
   "metadata": {},
   "outputs": [
    {
     "name": "stdout",
     "output_type": "stream",
     "text": [
      "[1, 2, 3]\n",
      "[4, 5, 6]\n",
      "[7, 8, 9]\n"
     ]
    }
   ],
   "source": [
    "for i in m:\n",
    "    print(i)"
   ]
  },
  {
   "cell_type": "code",
   "execution_count": 57,
   "id": "5d41dc0a",
   "metadata": {
    "scrolled": true
   },
   "outputs": [
    {
     "name": "stdout",
     "output_type": "stream",
     "text": [
      "1\n",
      "5\n",
      "9\n"
     ]
    }
   ],
   "source": [
    "for i in range(0, len(m)):\n",
    "    print(m[i][i])"
   ]
  },
  {
   "cell_type": "code",
   "execution_count": 72,
   "id": "65790480",
   "metadata": {},
   "outputs": [
    {
     "name": "stdout",
     "output_type": "stream",
     "text": [
      "9\n",
      "5\n",
      "1\n"
     ]
    }
   ],
   "source": [
    "for i in range(len(m), 0, -1):\n",
    "    print(m[i-1][i-1])"
   ]
  },
  {
   "cell_type": "code",
   "execution_count": null,
   "id": "4ba3d626",
   "metadata": {},
   "outputs": [],
   "source": []
  }
 ],
 "metadata": {
  "kernelspec": {
   "display_name": "Python 3 (ipykernel)",
   "language": "python",
   "name": "python3"
  },
  "language_info": {
   "codemirror_mode": {
    "name": "ipython",
    "version": 3
   },
   "file_extension": ".py",
   "mimetype": "text/x-python",
   "name": "python",
   "nbconvert_exporter": "python",
   "pygments_lexer": "ipython3",
   "version": "3.9.7"
  }
 },
 "nbformat": 4,
 "nbformat_minor": 5
}
