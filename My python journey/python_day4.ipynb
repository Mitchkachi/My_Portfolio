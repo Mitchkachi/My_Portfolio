{
 "cells": [
  {
   "cell_type": "code",
   "execution_count": 1,
   "id": "1f8bc151",
   "metadata": {},
   "outputs": [
    {
     "name": "stdout",
     "output_type": "stream",
     "text": [
      " Volume in drive C has no label.\n",
      " Volume Serial Number is 3EB2-54BE\n",
      "\n",
      " Directory of C:\\Users\\User\\My_python_folder\n",
      "\n",
      "06/20/2022  08:05 PM    <DIR>          .\n",
      "06/20/2022  08:05 PM    <DIR>          ..\n",
      "06/20/2022  08:05 PM    <DIR>          .ipynb_checkpoints\n",
      "06/14/2022  09:52 PM             9,530 my_personal_practice.ipynb\n",
      "06/20/2022  08:49 AM    <DIR>          my_practice_folder\n",
      "06/14/2022  05:54 PM             5,037 python_day1.ipynb\n",
      "06/15/2022  06:46 PM             8,432 python_day2.ipynb\n",
      "06/18/2022  02:26 PM            12,084 python_day3.ipynb\n",
      "06/20/2022  08:04 PM                72 python_day4.ipynb\n",
      "               5 File(s)         35,155 bytes\n",
      "               4 Dir(s)  441,976,025,088 bytes free\n"
     ]
    }
   ],
   "source": [
    "ls"
   ]
  },
  {
   "cell_type": "code",
   "execution_count": 1,
   "id": "f661659a",
   "metadata": {},
   "outputs": [],
   "source": [
    "mkdir data_files"
   ]
  },
  {
   "cell_type": "code",
   "execution_count": 2,
   "id": "39d8c220",
   "metadata": {},
   "outputs": [
    {
     "name": "stdout",
     "output_type": "stream",
     "text": [
      " Volume in drive C has no label.\n",
      " Volume Serial Number is 3EB2-54BE\n",
      "\n",
      " Directory of C:\\Users\\User\\Desktop\\My_python_folder\n",
      "\n",
      "06/21/2022  08:14 AM    <DIR>          .\n",
      "06/21/2022  08:14 AM    <DIR>          ..\n",
      "06/20/2022  08:05 PM    <DIR>          .ipynb_checkpoints\n",
      "06/21/2022  08:14 AM    <DIR>          data_files\n",
      "06/14/2022  09:52 PM             9,530 my_personal_practice.ipynb\n",
      "06/20/2022  09:25 PM    <DIR>          my_practice_folder\n",
      "06/14/2022  05:54 PM             5,037 python_day1.ipynb\n",
      "06/15/2022  06:46 PM             8,432 python_day2.ipynb\n",
      "06/18/2022  02:26 PM            12,084 python_day3.ipynb\n",
      "06/20/2022  08:06 PM             1,708 python_day4.ipynb\n",
      "               5 File(s)         36,791 bytes\n",
      "               5 Dir(s)  441,965,928,448 bytes free\n"
     ]
    }
   ],
   "source": [
    "ls"
   ]
  },
  {
   "cell_type": "code",
   "execution_count": 3,
   "id": "c07f14bf",
   "metadata": {},
   "outputs": [
    {
     "name": "stdout",
     "output_type": "stream",
     "text": [
      "C:\\Users\\User\\Desktop\\My_python_folder\\data_files\n"
     ]
    }
   ],
   "source": [
    "cd data_files"
   ]
  },
  {
   "cell_type": "code",
   "execution_count": 4,
   "id": "279698a7",
   "metadata": {},
   "outputs": [
    {
     "name": "stdout",
     "output_type": "stream",
     "text": [
      " Volume in drive C has no label.\n",
      " Volume Serial Number is 3EB2-54BE\n",
      "\n",
      " Directory of C:\\Users\\User\\Desktop\\My_python_folder\\data_files\n",
      "\n",
      "06/21/2022  08:23 AM    <DIR>          .\n",
      "06/21/2022  08:23 AM    <DIR>          ..\n",
      "06/21/2022  08:23 AM                26 new_test.txt\n",
      "               1 File(s)             26 bytes\n",
      "               2 Dir(s)  441,957,670,912 bytes free\n"
     ]
    }
   ],
   "source": [
    "ls"
   ]
  },
  {
   "cell_type": "code",
   "execution_count": 9,
   "id": "84c8f938",
   "metadata": {},
   "outputs": [
    {
     "name": "stdout",
     "output_type": "stream",
     "text": [
      "['hello', 'thanks', 'hi', 'go here']\n"
     ]
    }
   ],
   "source": [
    "file_path = \"C:/Users/User/Desktop/My_python_folder/data_files/new_test.txt\"\n",
    "with open(file_path, \"r\") as file:\n",
    "    r_file = file.read().split(\"\\n\")\n",
    "print(r_file)"
   ]
  },
  {
   "cell_type": "code",
   "execution_count": 10,
   "id": "be98ea0c",
   "metadata": {},
   "outputs": [],
   "source": [
    "import os"
   ]
  },
  {
   "cell_type": "code",
   "execution_count": 13,
   "id": "f6e26bf4",
   "metadata": {},
   "outputs": [
    {
     "name": "stdout",
     "output_type": "stream",
     "text": [
      "[[1.0, 2.0, 4.0, 5.0, 6.0, 9.0], [1.0, 2.0, 3.0, 4.0, 5.0, 6.0, 7.0]]\n"
     ]
    }
   ],
   "source": [
    "all_data = []\n",
    "path = \"C:/Users/User/Desktop/My_python_folder/new_data\"\n",
    "list_path = os.listdir(path)\n",
    "for i in list_path:\n",
    "    path_file = path + \"/\" + i\n",
    "    file_val = os.listdir(path_file)\n",
    "    #print(file_val)\n",
    "    new_path = path_file + \"/\" + file_val[-1]\n",
    "    #print(new_path)\n",
    "    with open(new_path, \"r\") as file:\n",
    "        a = file.read().split()\n",
    "        all_data.append(a)\n",
    "#print(all_data)\n",
    "new_data = []\n",
    "for i in all_data:\n",
    "    a_b = []\n",
    "    for n in i:\n",
    "        b = float(n)\n",
    "        a_b.append(b)\n",
    "    new_data.append(a_b)\n",
    "print(new_data)"
   ]
  },
  {
   "cell_type": "code",
   "execution_count": 14,
   "id": "054feffa",
   "metadata": {},
   "outputs": [
    {
     "name": "stdout",
     "output_type": "stream",
     "text": [
      "[[1.0, 2.0, 4.0, 5.0, 6.0, 9.0, 2.5], [1.0, 2.0, 3.0, 4.0, 5.0, 6.0, 7.0]]\n"
     ]
    }
   ],
   "source": [
    "data_val = []\n",
    "for i in new_data:\n",
    "    if len(i) < 7:\n",
    "        i.append(2.5)\n",
    "    data_val.append(i)\n",
    "print(data_val)"
   ]
  },
  {
   "cell_type": "code",
   "execution_count": 16,
   "id": "cadf05ab",
   "metadata": {},
   "outputs": [
    {
     "name": "stdout",
     "output_type": "stream",
     "text": [
      "Enter the commands\n",
      " press 1 => to write files\n",
      " press 0 => to clear backlogs\n",
      "\n",
      "enter commands: 1\n"
     ]
    }
   ],
   "source": [
    "new_file = \"C:/Users/User/Desktop/My_python_folder/new_data/pressure_law.txt\"\n",
    "print(\"\"\"Enter the commands\n",
    " press 1 => to write files\n",
    " press 0 => to clear backlogs\n",
    "\"\"\")\n",
    "enter_press = input(\"enter commands: \")\n",
    "\n",
    "if enter_press == \"1\":\n",
    "    file_w = open(new_file, \"a\")\n",
    "    for i in range(0, len(data_val[1])):\n",
    "        k_p = data_val[0][i]/data_val[1][i]\n",
    "        file_w.write(f\"{k_p}\\n\")\n",
    "elif enter_press == \"0\":\n",
    "    file_w = open(new_file, \"w\")\n",
    "    file_w.write(\" \")\n",
    "else:\n",
    "    print(\"inputs invalid\")"
   ]
  },
  {
   "cell_type": "code",
   "execution_count": null,
   "id": "ef978c8d",
   "metadata": {},
   "outputs": [],
   "source": []
  }
 ],
 "metadata": {
  "kernelspec": {
   "display_name": "Python 3 (ipykernel)",
   "language": "python",
   "name": "python3"
  },
  "language_info": {
   "codemirror_mode": {
    "name": "ipython",
    "version": 3
   },
   "file_extension": ".py",
   "mimetype": "text/x-python",
   "name": "python",
   "nbconvert_exporter": "python",
   "pygments_lexer": "ipython3",
   "version": "3.9.7"
  }
 },
 "nbformat": 4,
 "nbformat_minor": 5
}
