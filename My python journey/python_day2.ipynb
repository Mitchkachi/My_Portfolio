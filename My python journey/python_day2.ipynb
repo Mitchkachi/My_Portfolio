{
 "cells": [
  {
   "cell_type": "code",
   "execution_count": 3,
   "id": "5f606698",
   "metadata": {},
   "outputs": [
    {
     "name": "stdout",
     "output_type": "stream",
     "text": [
      "ami\n"
     ]
    }
   ],
   "source": [
    "x = \"amie\"\n",
    "print(x[0:-1])"
   ]
  },
  {
   "cell_type": "markdown",
   "id": "91ea2cc5",
   "metadata": {},
   "source": [
    "# to know the location of a value in a str use .index bfore variable"
   ]
  },
  {
   "cell_type": "code",
   "execution_count": 4,
   "id": "0c00c7d6",
   "metadata": {},
   "outputs": [
    {
     "data": {
      "text/plain": [
       "0"
      ]
     },
     "execution_count": 4,
     "metadata": {},
     "output_type": "execute_result"
    }
   ],
   "source": [
    "x.index('a')"
   ]
  },
  {
   "cell_type": "code",
   "execution_count": 5,
   "id": "e508ff63",
   "metadata": {},
   "outputs": [
    {
     "name": "stdout",
     "output_type": "stream",
     "text": [
      "['bola']\n"
     ]
    }
   ],
   "source": [
    "p = [\"amie\", \"janet\", \"suan\", \"ayo\", \"bola\"]\n",
    "index_val = p.index(\"ayo\")\n",
    "y_val = p[index_val+1:]\n",
    "print(y_val)"
   ]
  },
  {
   "cell_type": "code",
   "execution_count": 6,
   "id": "01995282",
   "metadata": {},
   "outputs": [
    {
     "data": {
      "text/plain": [
       "['amie', 'janet', 'suan']"
      ]
     },
     "execution_count": 6,
     "metadata": {},
     "output_type": "execute_result"
    }
   ],
   "source": [
    "p[:index_val]"
   ]
  },
  {
   "cell_type": "code",
   "execution_count": 35,
   "id": "8957ee78",
   "metadata": {},
   "outputs": [
    {
     "name": "stdout",
     "output_type": "stream",
     "text": [
      "4\n",
      "3\n",
      "4 and 3\n"
     ]
    }
   ],
   "source": [
    "d = [\"juan\", \"kate\", \"mitchel\", \"funmi\", \"angel\", \"ada\", \"lola\", \"joy\"]\n",
    "count_avg = int(len(d)/2)\n",
    "new_cont_avg = count_avg - 1\n",
    "print(count_avg)\n",
    "print(new_cont_avg)\n",
    "\n",
    "\n",
    "if len(d)%2 != 0:\n",
    "    print(d[count_avg])\n",
    "\n",
    "else:\n",
    "     print(f\"{count_avg} and {new_cont_avg}\")"
   ]
  },
  {
   "cell_type": "code",
   "execution_count": 36,
   "id": "40a78c7c",
   "metadata": {},
   "outputs": [
    {
     "name": "stdout",
     "output_type": "stream",
     "text": [
      "angel and funmi\n"
     ]
    }
   ],
   "source": [
    "if len(d)%2 != 0:\n",
    "    print(d[count_avg])\n",
    "\n",
    "else:\n",
    "    med_val = d[count_avg]\n",
    "    val_med = d[new_cont_avg]\n",
    "    print(f\"{med_val} and {val_med}\")"
   ]
  },
  {
   "cell_type": "markdown",
   "id": "1f78946b",
   "metadata": {},
   "source": [
    "# For Loops"
   ]
  },
  {
   "cell_type": "code",
   "execution_count": 40,
   "id": "ae9b8da9",
   "metadata": {},
   "outputs": [
    {
     "name": "stdout",
     "output_type": "stream",
     "text": [
      "[3, 6, 'jane', 'bella', 'tola', 'madu']\n"
     ]
    }
   ],
   "source": [
    "arr1 = [3, 6, \"jane\", \"bella\"]\n",
    "arr2 = [\"tola\", \"madu\"]\n",
    "# to append arr2 inside arr1\n",
    "\n",
    "for i in arr2:\n",
    "    arr1.append(i)\n",
    "print(arr1)    \n"
   ]
  },
  {
   "cell_type": "code",
   "execution_count": 41,
   "id": "8c21bca5",
   "metadata": {},
   "outputs": [
    {
     "data": {
      "text/plain": [
       "[3, 6, 'jane', 'bella', 'tola', 'madu', 'tola', 'madu']"
      ]
     },
     "execution_count": 41,
     "metadata": {},
     "output_type": "execute_result"
    }
   ],
   "source": [
    "# without for loops\n",
    "arr1 + arr2"
   ]
  },
  {
   "cell_type": "code",
   "execution_count": 7,
   "id": "4796d941",
   "metadata": {},
   "outputs": [
    {
     "name": "stdout",
     "output_type": "stream",
     "text": [
      "['rihanna']\n"
     ]
    }
   ],
   "source": [
    "# i would like to grt names starting with r\n",
    "# firstly, i create an empty to append the new names\n",
    "# and the search for the index in my list that begins with r\n",
    "\n",
    "array1 = [\"teni\", \"tiwa\", \"tems\", \"rihanna\"]\n",
    "r_names = []\n",
    "\n",
    "for i in array1:\n",
    "    if i[0] == \"r\":\n",
    "        r_names.append(i)\n",
    "print(r_names)    \n"
   ]
  },
  {
   "cell_type": "code",
   "execution_count": 56,
   "id": "40a428b0",
   "metadata": {},
   "outputs": [
    {
     "name": "stdout",
     "output_type": "stream",
     "text": [
      "['Jacob', 'Obi', 'Moses', 'Victor']\n"
     ]
    }
   ],
   "source": [
    "# to capitalise each of the first letters in the list\n",
    "array_names = [\"jacob\", \"obi\", \"moses\", \"victor\"]\n",
    "new_names = []\n",
    "for i in array_names:\n",
    "    cap = i[0].upper() + i[1:]\n",
    "    new_names.append(cap)\n",
    "print(new_names)    "
   ]
  },
  {
   "cell_type": "code",
   "execution_count": 64,
   "id": "43ff3986",
   "metadata": {},
   "outputs": [
    {
     "name": "stdout",
     "output_type": "stream",
     "text": [
      "['teni jacob', 'tiwa obi', 'tems moses', 'rihanna victor']\n"
     ]
    }
   ],
   "source": [
    "# to concatenate array1 and array_names we use a range function from zero to the length(len) of \n",
    "# the array name  we want to join on\n",
    "names = []\n",
    "for i in range(0, len(array1)):\n",
    "    full_names = f\"{array1[i]} {array_names[i]}\"\n",
    "    names.append(full_names)\n",
    "print(names)"
   ]
  },
  {
   "cell_type": "markdown",
   "id": "52312624",
   "metadata": {},
   "source": [
    "# to select values with sames data type from a list contain differnt data types"
   ]
  },
  {
   "cell_type": "code",
   "execution_count": 67,
   "id": "ec480947",
   "metadata": {},
   "outputs": [
    {
     "name": "stdout",
     "output_type": "stream",
     "text": [
      "hannah\n",
      "shalom\n",
      "design\n"
     ]
    }
   ],
   "source": [
    "ele = [\"hannah\", \"shalom\", 10, 15, \"design\"]\n",
    "\n",
    "for i in ele:\n",
    "    if type(i) == str:\n",
    "        print(i)"
   ]
  },
  {
   "cell_type": "markdown",
   "id": "ad7c6d0c",
   "metadata": {},
   "source": [
    "### or use the isinstance(i, str)"
   ]
  },
  {
   "cell_type": "code",
   "execution_count": 79,
   "id": "c4c0eb62",
   "metadata": {},
   "outputs": [
    {
     "name": "stdout",
     "output_type": "stream",
     "text": [
      "hannah\n",
      "shalom\n",
      "design\n"
     ]
    }
   ],
   "source": [
    "ele = [\"hannah\", \"shalom\", 10, 15, \"design\"]\n",
    "\n",
    "for i in ele:\n",
    "    k = isinstance(i, str)\n",
    "    if k == True:\n",
    "        print(i)"
   ]
  },
  {
   "cell_type": "code",
   "execution_count": 80,
   "id": "549961c2",
   "metadata": {},
   "outputs": [
    {
     "name": "stdout",
     "output_type": "stream",
     "text": [
      "10\n",
      "15\n"
     ]
    }
   ],
   "source": [
    "ele = [\"hannah\", \"shalom\", 10, 15, \"design\"]\n",
    "\n",
    "for i in ele:\n",
    "    k = isinstance(i, int)\n",
    "    if k == True:\n",
    "        print(i)"
   ]
  },
  {
   "cell_type": "code",
   "execution_count": 99,
   "id": "cf80da31",
   "metadata": {},
   "outputs": [
    {
     "name": "stdout",
     "output_type": "stream",
     "text": [
      "['juan', 'mitchel', 'funmi', 'angel', 'ada', 'lola', 'joy']\n",
      "They are not all strings\n"
     ]
    }
   ],
   "source": [
    "d = [\"juan\", 10, \"mitchel\", \"funmi\", \"angel\", \"ada\", \"lola\", \"joy\"]\n",
    "new_d =[]\n",
    "\n",
    "for i in d:\n",
    "    if type(i) == str:\n",
    "        new_d.append(i)\n",
    "print(new_d)\n",
    " \n",
    "if len(new_d) == len(d):\n",
    "    print(\"They are all strings\")\n",
    "else:\n",
    "    print(\"They are not all strings\")"
   ]
  },
  {
   "cell_type": "code",
   "execution_count": null,
   "id": "2cba8ccb",
   "metadata": {},
   "outputs": [],
   "source": []
  }
 ],
 "metadata": {
  "kernelspec": {
   "display_name": "Python 3 (ipykernel)",
   "language": "python",
   "name": "python3"
  },
  "language_info": {
   "codemirror_mode": {
    "name": "ipython",
    "version": 3
   },
   "file_extension": ".py",
   "mimetype": "text/x-python",
   "name": "python",
   "nbconvert_exporter": "python",
   "pygments_lexer": "ipython3",
   "version": "3.9.7"
  }
 },
 "nbformat": 4,
 "nbformat_minor": 5
}
