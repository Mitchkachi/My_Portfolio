{
 "cells": [
  {
   "cell_type": "code",
   "execution_count": 104,
   "id": "87e3a429",
   "metadata": {},
   "outputs": [
    {
     "name": "stdout",
     "output_type": "stream",
     "text": [
      "{3: 5, 5: 2, 'timi': 2, 'jane': 1, 4: 2}\n"
     ]
    }
   ],
   "source": [
    "array = [3, 5, \"timi\", 3, \"jane\", 5, 4, 3, 4, 3, 3, \"timi\"]\n",
    "dict_arr = {}\n",
    "for i in array:\n",
    "    dict_arr[i] = dict_arr.get(i, 0)+1\n",
    "print(dict_arr)"
   ]
  },
  {
   "cell_type": "code",
   "execution_count": 105,
   "id": "295ed070",
   "metadata": {},
   "outputs": [
    {
     "name": "stdout",
     "output_type": "stream",
     "text": [
      "[1, 2, 2, 2, 5]\n"
     ]
    }
   ],
   "source": [
    "print(sorted(dict_arr.values()))"
   ]
  },
  {
   "cell_type": "code",
   "execution_count": 106,
   "id": "2df7c39a",
   "metadata": {},
   "outputs": [
    {
     "name": "stdout",
     "output_type": "stream",
     "text": [
      "[5, 2, 2, 1, 2]\n"
     ]
    }
   ],
   "source": [
    "counts = []\n",
    "for i, j in dict_arr.items():\n",
    "    counts.append(j)\n",
    "print(counts)"
   ]
  },
  {
   "cell_type": "code",
   "execution_count": 107,
   "id": "12b2760f",
   "metadata": {},
   "outputs": [
    {
     "name": "stdout",
     "output_type": "stream",
     "text": [
      "5\n"
     ]
    }
   ],
   "source": [
    "d_max = counts[0]\n",
    "for i in counts:\n",
    "    if i > d_max:\n",
    "        d_max = i\n",
    "print(d_max)"
   ]
  },
  {
   "cell_type": "code",
   "execution_count": 108,
   "id": "09cbd20b",
   "metadata": {},
   "outputs": [
    {
     "name": "stdout",
     "output_type": "stream",
     "text": [
      "3\n"
     ]
    }
   ],
   "source": [
    "for k, n in dict_arr.items():\n",
    "    if n == d_max:\n",
    "        print(k)"
   ]
  },
  {
   "cell_type": "code",
   "execution_count": 109,
   "id": "88043ee8",
   "metadata": {},
   "outputs": [
    {
     "name": "stdout",
     "output_type": "stream",
     "text": [
      "[1, 2, 2, 2, 5]\n",
      "5\n",
      "[5, 2, 2, 2, 1]\n"
     ]
    }
   ],
   "source": [
    "counts.sort()\n",
    "print(counts)\n",
    "print(counts[-1])\n",
    "print(counts[::-1])"
   ]
  },
  {
   "cell_type": "markdown",
   "id": "7f1dfc07",
   "metadata": {},
   "source": [
    "# while loops  "
   ]
  },
  {
   "cell_type": "code",
   "execution_count": 110,
   "id": "0ecab60b",
   "metadata": {},
   "outputs": [
    {
     "name": "stdout",
     "output_type": "stream",
     "text": [
      "11\n",
      "12\n",
      "13\n",
      "14\n",
      "15\n",
      "16\n",
      "17\n",
      "18\n",
      "19\n",
      "20\n"
     ]
    }
   ],
   "source": [
    "i = 10\n",
    "while i < 20:\n",
    "    i = i + 1\n",
    "    print(i)"
   ]
  },
  {
   "cell_type": "code",
   "execution_count": 111,
   "id": "71d122c6",
   "metadata": {},
   "outputs": [
    {
     "name": "stdout",
     "output_type": "stream",
     "text": [
      "enter guess: 7\n",
      "guess again!\n",
      "enter guess: 8\n",
      "guess again!\n",
      "enter guess: 8\n",
      "guess again!\n",
      "game over!!!\n"
     ]
    }
   ],
   "source": [
    "guess_here = 10\n",
    "guess_count = 0\n",
    "number_guess = 3\n",
    "\n",
    "while guess_count < number_guess:\n",
    "    guess = int(input(\"enter guess: \"))\n",
    "    guess_count = guess_count + 1\n",
    "    if guess_here == guess:\n",
    "        print(\"your guess was right\")\n",
    "    else:\n",
    "        print(\"guess again!\")\n",
    "else:\n",
    "    print(\"game over!!!\")\n",
    "    "
   ]
  },
  {
   "cell_type": "code",
   "execution_count": 112,
   "id": "04ad15af",
   "metadata": {},
   "outputs": [
    {
     "name": "stdout",
     "output_type": "stream",
     "text": [
      "The sum is 165\n"
     ]
    }
   ],
   "source": [
    "n = 20\n",
    "sum = 0\n",
    "i = 10\n",
    "while i <= n:\n",
    "    sum = sum + i\n",
    "    i = i+1\n",
    "print(\"The sum is\", sum)"
   ]
  },
  {
   "cell_type": "code",
   "execution_count": 8,
   "id": "0ae57691",
   "metadata": {},
   "outputs": [
    {
     "name": "stdout",
     "output_type": "stream",
     "text": [
      "[{'name': 'tobi', 'scores': {'eng': 50, 'maths': 70, 'econs': 95}, 'class': 'ss1', 'family': 'both'}, {'name': 'manuel', 'scores': {'eng': 44, 'maths': 65, 'econs': 79}, 'class': 'ss2', 'family': 'single'}]\n"
     ]
    }
   ],
   "source": [
    "dict_data = [{\"name\": \"tobi\", \"scores\":{\"eng\": 50,\n",
    "                                      \"maths\": 70,\n",
    "                                      \"econs\": 95},\n",
    "            \"class\": \"ss1\",\n",
    "            \"family\": \"both\"},\n",
    "            {\"name\": \"manuel\", \"scores\":{\"eng\": 44,\n",
    "                                      \"maths\": 65,\n",
    "                                      \"econs\": 79},\n",
    "            \"class\": \"ss2\",\n",
    "            \"family\": \"single\"}]\n",
    "print(dict_data)"
   ]
  },
  {
   "cell_type": "code",
   "execution_count": 114,
   "id": "916aa46e",
   "metadata": {},
   "outputs": [],
   "source": [
    "# 1. find the average scores for each of the student\n",
    "# 2. add that average score inside the dictionary i.e : \"average\" : 50\n",
    "# 3. write a query that will select all students in a. ss2\n",
    "# b. both\n",
    "# 4. what is the modal score for tobi"
   ]
  },
  {
   "cell_type": "code",
   "execution_count": 10,
   "id": "074bc011",
   "metadata": {},
   "outputs": [
    {
     "name": "stdout",
     "output_type": "stream",
     "text": [
      "[{'name': 'tobi', 'scores': {'eng': 50, 'maths': 70, 'econs': 95}, 'class': 'ss1', 'family': 'both', 'average': 71.66666666666667}, {'name': 'manuel', 'scores': {'eng': 44, 'maths': 65, 'econs': 79}, 'class': 'ss2', 'family': 'single', 'average': 62.666666666666664}]\n"
     ]
    }
   ],
   "source": [
    "val = []\n",
    "for i in dict_data:\n",
    "#     r = []\n",
    "    for key, value in i[\"scores\"].items():\n",
    "        r.append(value)\n",
    "    #print(r)\n",
    "    val.append(r)\n",
    "    \n",
    "    scores = sum(val)\n",
    "    length = len(val)\n",
    "    \n",
    "    avg = scores / length\n",
    "\n",
    "            \n",
    "\n",
    "\n",
    "    "
   ]
  },
  {
   "cell_type": "code",
   "execution_count": 14,
   "id": "b374706c",
   "metadata": {},
   "outputs": [
    {
     "data": {
      "text/plain": [
       "[[50, 70, 95], [44, 65, 79]]"
      ]
     },
     "execution_count": 14,
     "metadata": {},
     "output_type": "execute_result"
    }
   ],
   "source": [
    "val = []\n",
    "for i in dict_data:\n",
    "    r = []\n",
    "    for key, value in i[\"scores\"].items():\n",
    "        r.append(value)\n",
    "    \n",
    "    val.append(r)\n",
    "val"
   ]
  },
  {
   "cell_type": "code",
   "execution_count": 22,
   "id": "5834b62b",
   "metadata": {},
   "outputs": [],
   "source": [
    "tot = []\n",
    "total = 0\n",
    "for i in val[0]:\n",
    "        total += i\n",
    "        \n",
    "avg = round(total/len(val[0]), 2)\n",
    "tot.append(avg)"
   ]
  },
  {
   "cell_type": "code",
   "execution_count": null,
   "id": "d1e2dae0",
   "metadata": {},
   "outputs": [],
   "source": [
    "# val = [20, 22]"
   ]
  },
  {
   "cell_type": "code",
   "execution_count": null,
   "id": "9cc5b2c2",
   "metadata": {},
   "outputs": [],
   "source": [
    "# for i in range(val):\n",
    "#     dict_data[i][\"average\"]= val[i]"
   ]
  },
  {
   "cell_type": "code",
   "execution_count": 23,
   "id": "e04dffe7",
   "metadata": {},
   "outputs": [],
   "source": [
    "total = 0\n",
    "for i in val[1]:\n",
    "        total = total + i\n",
    "        \n",
    "avgg= round(total/len(val[1]), 2)\n",
    "tot.append(avgg)"
   ]
  },
  {
   "cell_type": "code",
   "execution_count": 24,
   "id": "564c0c42",
   "metadata": {},
   "outputs": [
    {
     "data": {
      "text/plain": [
       "[71.67, 62.67]"
      ]
     },
     "execution_count": 24,
     "metadata": {},
     "output_type": "execute_result"
    }
   ],
   "source": [
    "tot"
   ]
  },
  {
   "cell_type": "code",
   "execution_count": 118,
   "id": "6a862920",
   "metadata": {},
   "outputs": [],
   "source": [
    "# sum = 0\n",
    "# for i in range(len(val)):\n",
    "#         sum = sum + i\n",
    "#         avg = round(sum/len(val), 2)\n",
    "# print(avg) "
   ]
  },
  {
   "cell_type": "code",
   "execution_count": 25,
   "id": "63d6c266",
   "metadata": {},
   "outputs": [
    {
     "data": {
      "text/plain": [
       "[{'name': 'tobi',\n",
       "  'scores': {'eng': 50, 'maths': 70, 'econs': 95},\n",
       "  'class': 'ss1',\n",
       "  'family': 'both',\n",
       "  'average': 71.66666666666667,\n",
       "  'avg_score': 71.67},\n",
       " {'name': 'manuel',\n",
       "  'scores': {'eng': 44, 'maths': 65, 'econs': 79},\n",
       "  'class': 'ss2',\n",
       "  'family': 'single',\n",
       "  'average': 62.666666666666664,\n",
       "  'avg_score': 62.67}]"
      ]
     },
     "execution_count": 25,
     "metadata": {},
     "output_type": "execute_result"
    }
   ],
   "source": [
    "for i in range(len(dict_data)):\n",
    "    dict_data[i].update({\"avg_score\": tot[i]})\n",
    "    \n",
    "dict_data"
   ]
  },
  {
   "cell_type": "code",
   "execution_count": 120,
   "id": "f584d5c5",
   "metadata": {},
   "outputs": [],
   "source": [
    "# dict_data[i][\"average\"]= avg\n",
    "# print(dict_data)\n",
    "    "
   ]
  },
  {
   "cell_type": "code",
   "execution_count": 2,
   "id": "eec3b2a8",
   "metadata": {},
   "outputs": [
    {
     "data": {
      "text/plain": [
       "[{'name': 'tobi',\n",
       "  'scores': {'eng': 50, 'maths': 70, 'econs': 95},\n",
       "  'class': 'ss1',\n",
       "  'family': 'both',\n",
       "  'average': 71.66666666666667},\n",
       " {'name': 'manuel',\n",
       "  'scores': {'eng': 44, 'maths': 65, 'econs': 79},\n",
       "  'class': 'ss2',\n",
       "  'family': 'single',\n",
       "  'average': 62.666666666666664}]"
      ]
     },
     "execution_count": 2,
     "metadata": {},
     "output_type": "execute_result"
    }
   ],
   "source": [
    "for i in range(len(dict_data)):\n",
    "    avg_arr = []\n",
    "    for k, v in dict_data[i][\"scores\"].items():\n",
    "        avg_arr.append(v)\n",
    "       \n",
    "        \n",
    "    scores = sum(avg_arr)\n",
    "    length = len(avg_arr)\n",
    "        \n",
    "    avg = scores / length\n",
    "    dict_data[i][\"average\"] = avg\n",
    "    \n",
    "dict_data"
   ]
  },
  {
   "cell_type": "code",
   "execution_count": 122,
   "id": "4e12b8c7",
   "metadata": {},
   "outputs": [],
   "source": [
    "# for i in range(len(dict_data)):\n",
    "#     new = []\n",
    "#     for n, m in dict_data[i][\"scores\"]. items():\n",
    "#         new.append(m)\n",
    "        \n",
    "#         summ = sum(new)\n",
    "#         length = len(new)\n",
    "        \n",
    "#         avg = summation / length\n",
    "#         dict_data[i][\"average\"] = avg\n",
    "# print(dict_data)\n",
    "        \n",
    "           "
   ]
  },
  {
   "cell_type": "code",
   "execution_count": null,
   "id": "b15f493a",
   "metadata": {},
   "outputs": [],
   "source": []
  }
 ],
 "metadata": {
  "kernelspec": {
   "display_name": "Python 3 (ipykernel)",
   "language": "python",
   "name": "python3"
  },
  "language_info": {
   "codemirror_mode": {
    "name": "ipython",
    "version": 3
   },
   "file_extension": ".py",
   "mimetype": "text/x-python",
   "name": "python",
   "nbconvert_exporter": "python",
   "pygments_lexer": "ipython3",
   "version": "3.9.7"
  }
 },
 "nbformat": 4,
 "nbformat_minor": 5
}
